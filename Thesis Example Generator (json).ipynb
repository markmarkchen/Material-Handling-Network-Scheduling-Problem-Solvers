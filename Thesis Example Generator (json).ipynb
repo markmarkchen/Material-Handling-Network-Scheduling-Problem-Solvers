{
 "cells": [
  {
   "cell_type": "code",
   "execution_count": 54,
   "metadata": {},
   "outputs": [],
   "source": [
    "import networkx as nx\n",
    "import numpy as np\n",
    "from numpy.random import randint\n",
    "from tqdm import tqdm\n",
    "import json"
   ]
  },
  {
   "cell_type": "code",
   "execution_count": 67,
   "metadata": {},
   "outputs": [],
   "source": [
    "num_nodes = 5\n",
    "num_pd = 9\n",
    "num_trans_site = 10\n",
    "num_jobs = 2\n",
    "max_node_vehicle = 1\n",
    "max_trans_capacity = 3\n",
    "flexible = True\n",
    "same_dest = False"
   ]
  },
  {
   "cell_type": "code",
   "execution_count": 68,
   "metadata": {},
   "outputs": [
    {
     "data": {
      "text/plain": [
       "0"
      ]
     },
     "execution_count": 68,
     "metadata": {},
     "output_type": "execute_result"
    }
   ],
   "source": [
    "G = nx.MultiDiGraph()\n",
    "G.add_nodes_from(range(5))\n",
    "G.add_edge(0, 1, pt=15, capacity=1)\n",
    "G.add_edge(1, 0, pt=15, capacity=1)\n",
    "G.add_edge(0, 2, pt=15, capacity=3)\n",
    "G.add_edge(2, 0, pt=15, capacity=3)\n",
    "G.add_edge(1, 2, pt=15, capacity=1)\n",
    "G.add_edge(2, 1, pt=15, capacity=1)\n",
    "G.add_edge(2, 3, pt=15, capacity=3)\n",
    "G.add_edge(3, 2, pt=15, capacity=3)\n",
    "G.add_edge(2, 4, pt=15, capacity=3)\n",
    "G.add_edge(4, 2, pt=15, capacity=3)"
   ]
  },
  {
   "cell_type": "code",
   "execution_count": 69,
   "metadata": {},
   "outputs": [
    {
     "data": {
      "image/png": "[encoded data removed]",
      "text/plain": [
       "<Figure size 640x480 with 1 Axes>"
      ]
     },
     "metadata": {},
     "output_type": "display_data"
    }
   ],
   "source": [
    "nx.draw(G, with_labels=True)"
   ]
  },
  {
   "cell_type": "markdown",
   "metadata": {},
   "source": [
    "![!\\[\\]](<Thesis/Graphics/Layout example (formal).svg>)"
   ]
  },
  {
   "cell_type": "code",
   "execution_count": 70,
   "metadata": {},
   "outputs": [],
   "source": [
    "node_from_to = [[]]*num_nodes\n",
    "node_from_to[0] = [[0, 10, 15, 30, 35],\n",
    "                   [10, 0, 5, 20, 25],\n",
    "                   [15, 5, 0, 15, 20],\n",
    "                   [30, 20, 15, 0, 5],\n",
    "                   [35, 25, 20, 5, 0]]\n",
    "node_from_to[1] = [[0, 5, 20, 25],\n",
    "                   [5, 0, 15, 20],\n",
    "                   [20, 15, 0, 5],\n",
    "                   [25, 20, 5, 0]]\n",
    "node_from_to[2] = [[0,  5,  15, 20, 30,  35, 30, 35, 5],\n",
    "                   [5,  0,  10, 15, 25,  30, 25, 30, 10],\n",
    "                   [15, 10,  0, 5,  15,  20, 15, 20, 20],\n",
    "                   [20, 15,  5, 0,  10,  15, 10, 15, 25],\n",
    "                   [30, 25, 15, 10,  0,   5,  0,  5, 35],\n",
    "                   [35, 30, 20, 15,  5,   0,  5,  0, 40],\n",
    "                   [30, 25, 15, 10,  0,   5,  0,  5, 35],\n",
    "                   [35, 30, 20, 15,  5,   0,  5,  0, 40],\n",
    "                   [5,  10, 20, 25,  35, 40,  35, 40, 0]\n",
    "                   ]\n",
    "node_from_to[3] = [[0, 20, 20],\n",
    "                   [20, 0, 5],\n",
    "                   [20, 5, 0]]\n",
    "node_from_to[4] = [[0, 20, 20],\n",
    "                   [20, 0, 5],\n",
    "                   [20, 5, 0]]\n",
    "# node_from_to += []"
   ]
  },
  {
   "cell_type": "code",
   "execution_count": 75,
   "metadata": {},
   "outputs": [
    {
     "data": {
      "text/plain": [
       "'0 & 5 & 15 & 20 & 30 & 35 & 30 & 35 & 5\\\\5 & 0 & 10 & 15 & 25 & 30 & 25 & 30 & 10\\\\15 & 10 & 0 & 5 & 15 & 20 & 15 & 20 & 20\\\\20 & 15 & 5 & 0 & 10 & 15 & 10 & 15 & 25\\\\30 & 25 & 15 & 10 & 0 & 5 & 0 & 5 & 35\\\\35 & 30 & 20 & 15 & 5 & 0 & 5 & 0 & 40\\\\30 & 25 & 15 & 10 & 0 & 5 & 0 & 5 & 35\\\\35 & 30 & 20 & 15 & 5 & 0 & 5 & 0 & 40\\\\5 & 10 & 20 & 25 & 35 & 40 & 35 & 40 & 0'"
      ]
     },
     "execution_count": 75,
     "metadata": {},
     "output_type": "execute_result"
    }
   ],
   "source": [
    "\"\\\\\".join([\" & \".join([str(l) for l in line]) for line in node_from_to[2]])"
   ]
  },
  {
   "cell_type": "code",
   "execution_count": 72,
   "metadata": {},
   "outputs": [],
   "source": [
    "node_num_pd = [5,4,9,3,3]"
   ]
  },
  {
   "cell_type": "code",
   "execution_count": 73,
   "metadata": {},
   "outputs": [],
   "source": [
    "sites = [\n",
    "    (1, 1, 0, 2, 10, 1),\n",
    "    (0, 1, 1, 0, 10, 1),\n",
    "    (0, 3, 2, 6, 10, 3),\n",
    "    (2, 7, 0, 4, 10, 3),\n",
    "    (1, 3, 2, 2, 10, 1),\n",
    "    (2, 3, 1, 2, 10, 1),\n",
    "    (2, 1, 3, 2, 10, 3),\n",
    "    (3, 1, 2, 0, 10, 3),\n",
    "    (2, 5, 4, 2, 10, 3),\n",
    "    (4, 1, 2, 4, 10, 3)\n",
    "]\n",
    "nodes2trans = {\n",
    "    (0, 1):[(1, 0)],\n",
    "    (1, 0):[(1, 2)],\n",
    "    (0, 2):[(3, 6)],\n",
    "    (2, 0):[(7, 4)],\n",
    "    (1, 2):[(3, 2)],\n",
    "    (2, 1):[(3, 2)],\n",
    "    (2, 3):[(1, 2)],\n",
    "    (3, 2):[(1, 0)],\n",
    "    (2, 4):[(5, 2)],\n",
    "    (4, 2):[(1, 4)]\n",
    "}\n"
   ]
  },
  {
   "cell_type": "code",
   "execution_count": 74,
   "metadata": {},
   "outputs": [
    {
     "name": "stdout",
     "output_type": "stream",
     "text": [
      "Graph saved: Success!\n"
     ]
    }
   ],
   "source": [
    "import os\n",
    "import pprint\n",
    "\n",
    "FOLDER =f\"benchmark/Thesis Example\"\n",
    "os.makedirs(FOLDER, exist_ok=True)\n",
    "text = json.dumps(nx.node_link_data(G), indent=2)[:-2]+',\\n'\n",
    "num_node_veh = randint(1,max_node_vehicle+1, num_nodes).tolist()\n",
    "\n",
    "\n",
    "data = {\"num_nodes\": num_nodes,\n",
    "        # \"num_pd\": num_pd, \n",
    "        \"num_trans_site\": num_trans_site, \n",
    "        # \"num_jobs\": num_jobs,\n",
    "        # \"max_node_vehicle\": max_node_vehicle,\n",
    "        # \"max_trans_capacity\": max_trans_capacity,\n",
    "        \"flexible\": flexible,\n",
    "        }\n",
    "\n",
    "text += json.dumps(data, indent=2)[1:-2]+',\\n'\n",
    "text += f'  \"num_node_veh\":\\n'+ \"\\n\".join([f\"    {line}\" for line in pprint.pformat(num_node_veh).split(\"\\n\")]) + \",\\n\"\n",
    "text += f'  \"node_from_to\":\\n'+ \"\\n\".join([f\"    {line}\" for line in pprint.pformat(node_from_to).split(\"\\n\")]) + \",\\n\"\n",
    "text += f'  \"trans_sites\":\\n'+  \"\\n\".join([f\"    {line}\" for line in pprint.pformat([[s for s in site] for site in sites]).split(\"\\n\")])+ \",\\n\"\n",
    "# text += f'  \"input_nodes\":\\n'+ \"\\n\".join([f\"    {line}\" for line in pprint.pformat(input_nodes).split(\"\\n\")]) + \",\\n\"\n",
    "# text += f'  \"output_nodes\":\\n'+ \"\\n\".join([f\"    {line}\" for line in pprint.pformat(output_nodes).split(\"\\n\")]) + \",\\n\"\n",
    "text = text[:-2] + \"\\n}\"\n",
    "with open(f\"{FOLDER}/Network config.json\", \"w\") as f:\n",
    "        f.write(text)\n",
    "with open(f\"{FOLDER}/Network config.json\") as f:\n",
    "    G_ = nx.node_link_graph(json.loads(f.read()))\n",
    "    print(f\"Graph saved: {'Success!' if nx.utils.graphs_equal(G_, G) else 'Failed!'}\")"
   ]
  },
  {
   "cell_type": "markdown",
   "metadata": {},
   "source": [
    "# Read"
   ]
  },
  {
   "cell_type": "code",
   "execution_count": 63,
   "metadata": {},
   "outputs": [],
   "source": [
    "FOLDER =f\"benchmark/Thesis Example\"\n",
    "with open(f\"{FOLDER}/Network config.json\") as f:\n",
    "    data = json.loads(f.read())\n",
    "    G = nx.node_link_graph(data)"
   ]
  },
  {
   "cell_type": "code",
   "execution_count": 64,
   "metadata": {},
   "outputs": [],
   "source": [
    "num_jobs = 2\n",
    "start_after = randint(0, 1, num_jobs).tolist()\n",
    "text = '{\\n  \\\"num_jobs\\\": ' + f\"{num_jobs},\\n\"\n",
    "text += f'  \"start_after\":\\n'+  \"\\n\".join([f\"    {line}\" for line in pprint.pformat(start_after).split(\"\\n\")])+ \",\\n\"\n",
    "text += '  \"jobs\\\": {\\n'\n",
    "ops0 = [[[0,0,1],[1,0,3],[2,2,1],[3,2,0]],\n",
    "        [[0,0,3],[2,6,1],[3,2,0]]]\n",
    "ops1 = [[[2,8,5],[4,2,0]],\n",
    "        [[2,8,3],[1,2,1],[0,2,3],[2,6,5],[4,2,0]]]\n",
    "text += f'    \"job {0}\":\\n' + \"\\n\".join([f\"        {line}\" for line in pprint.pformat(ops0, width=20).split(\"\\n\")]) + \",\\n\"\n",
    "text += f'    \"job {1}\":\\n' + \"\\n\".join([f\"        {line}\" for line in pprint.pformat(ops1, width=20).split(\"\\n\")])\n",
    "\n",
    "text += \"  }\\n}\""
   ]
  },
  {
   "cell_type": "code",
   "execution_count": 65,
   "metadata": {},
   "outputs": [],
   "source": [
    "with open(f\"{FOLDER}/{'Flexible ' if flexible else ''}J{num_jobs}.json\", \"w\") as f:\n",
    "        f.write(text)"
   ]
  },
  {
   "cell_type": "code",
   "execution_count": 66,
   "metadata": {},
   "outputs": [
    {
     "ename": "KeyError",
     "evalue": "'input_nodes'",
     "output_type": "error",
     "traceback": [
      "\u001b[0;31m---------------------------------------------------------------------------\u001b[0m",
      "\u001b[0;31mKeyError\u001b[0m                                  Traceback (most recent call last)",
      "Cell \u001b[0;32mIn[66], line 23\u001b[0m\n\u001b[1;32m     21\u001b[0m num_path \u001b[38;5;241m=\u001b[39m randint(\u001b[38;5;241m1\u001b[39m,\u001b[38;5;241m4\u001b[39m) \u001b[38;5;28;01mif\u001b[39;00m flexible \u001b[38;5;28;01melse\u001b[39;00m \u001b[38;5;241m1\u001b[39m\n\u001b[1;32m     22\u001b[0m \u001b[38;5;28;01mif\u001b[39;00m \u001b[38;5;129;01mnot\u001b[39;00m same_dest:\n\u001b[0;32m---> 23\u001b[0m     fr \u001b[38;5;241m=\u001b[39m np\u001b[38;5;241m.\u001b[39mrandom\u001b[38;5;241m.\u001b[39mchoice(\u001b[43mdata\u001b[49m\u001b[43m[\u001b[49m\u001b[38;5;124;43m\"\u001b[39;49m\u001b[38;5;124;43minput_nodes\u001b[39;49m\u001b[38;5;124;43m\"\u001b[39;49m\u001b[43m]\u001b[49m, \u001b[38;5;241m1\u001b[39m)[\u001b[38;5;241m0\u001b[39m]\n\u001b[1;32m     24\u001b[0m     to \u001b[38;5;241m=\u001b[39m np\u001b[38;5;241m.\u001b[39mrandom\u001b[38;5;241m.\u001b[39mchoice(data[\u001b[38;5;124m\"\u001b[39m\u001b[38;5;124moutput_nodes\u001b[39m\u001b[38;5;124m\"\u001b[39m], \u001b[38;5;241m1\u001b[39m)[\u001b[38;5;241m0\u001b[39m]\n\u001b[1;32m     25\u001b[0m     \u001b[38;5;66;03m# while to == fr:\u001b[39;00m\n\u001b[1;32m     26\u001b[0m     \u001b[38;5;66;03m#     to = randint(0,len(G.nodes))\u001b[39;00m\n\u001b[1;32m     27\u001b[0m \n\u001b[1;32m     28\u001b[0m     \u001b[38;5;66;03m# if num_path == 1:\u001b[39;00m\n\u001b[1;32m     29\u001b[0m     \u001b[38;5;66;03m#     paths = [nx.shortest_path(G, fr, to)]\u001b[39;00m\n\u001b[1;32m     30\u001b[0m     \u001b[38;5;66;03m# else:\u001b[39;00m\n",
      "\u001b[0;31mKeyError\u001b[0m: 'input_nodes'"
     ]
    }
   ],
   "source": [
    "num_jobs = 5\n",
    "text = '{\\n  \\\"num_jobs\\\": ' + f\"{num_jobs},\\n  \" +  '\"jobs\\\": {\\n'\n",
    "data[\"jobs\"] = {}\n",
    "sample_paths_db = {}\n",
    "\n",
    "if same_dest:\n",
    "    fr = np.random.choice(data[\"input_nodes\"], 1)[0]\n",
    "    to = np.random.choice(data[\"output_nodes\"], 1)[0]\n",
    "    # while to == fr:\n",
    "    #     to = randint(0,len(G.nodes))\n",
    "    sample_paths = []\n",
    "    g = nx.all_simple_paths(G, fr, to)\n",
    "    for _ in range(10):\n",
    "        try:\n",
    "            sample_paths += next(g),\n",
    "        except StopIteration:\n",
    "            break\n",
    "    # num_path = 3\n",
    "\n",
    "for j in range(num_jobs):\n",
    "    num_path = randint(1,4) if flexible else 1\n",
    "    if not same_dest:\n",
    "        fr = np.random.choice(data[\"input_nodes\"], 1)[0]\n",
    "        to = np.random.choice(data[\"output_nodes\"], 1)[0]\n",
    "        # while to == fr:\n",
    "        #     to = randint(0,len(G.nodes))\n",
    "    \n",
    "        # if num_path == 1:\n",
    "        #     paths = [nx.shortest_path(G, fr, to)]\n",
    "        # else:\n",
    "        if (fr,to) in sample_paths_db:\n",
    "            sample_paths = sample_paths_db[(fr,to)]\n",
    "        else:\n",
    "            sample_paths = []\n",
    "            g = nx.all_simple_paths(G, fr, to)\n",
    "            for _ in range(10):\n",
    "                try:\n",
    "                    sample_paths += next(g),\n",
    "                except StopIteration:\n",
    "                    break\n",
    "            assert len(sample_paths) != 0\n",
    "            sample_paths_db[(fr,to)] = sample_paths\n",
    "        indices = np.random.choice(range(len(sample_paths)), num_path if len(sample_paths) > num_path else len(sample_paths), replace=False)\n",
    "        paths = [sample_paths[i] for i in indices]\n",
    "    else:\n",
    "        indices = np.random.choice(range(len(sample_paths)), num_path if len(sample_paths) > num_path else len(sample_paths), replace=False)\n",
    "        paths = [sample_paths[i] for i in indices]\n",
    "\n",
    "    all_ops = []\n",
    "    start_pd = 0\n",
    "    # start_pd = randint(num_pd)\n",
    "    end_pd = 0\n",
    "    # end_pd = randint(num_pd)\n",
    "    for path in paths:\n",
    "        ops = [[n] for n in path]\n",
    "    # print(ops)\n",
    "        for i in range(1, len(path)):\n",
    "            if i == 1:\n",
    "                ops[0] += start_pd,\n",
    "            fr,to = nodes2trans[(path[i-1],path[i])]\n",
    "            ops[i-1] += fr,\n",
    "            ops[i] += to,\n",
    "            if i == len(path)-1:\n",
    "                ops[i] += end_pd,\n",
    "        all_ops += ops,\n",
    "    text += f'    \"job {j}\":\\n' + \"\\n\".join([f\"        {line}\" for line in pprint.pformat(all_ops, width=20).split(\"\\n\")])\n",
    "    if j == num_jobs -1:\n",
    "        text +='\\n'\n",
    "    else: \n",
    "        text +=',\\n' \n",
    "\n",
    "    data[\"jobs\"][f\"job {j}\"] = all_ops\n",
    "text += \"  }\\n}\""
   ]
  },
  {
   "cell_type": "code",
   "execution_count": 5,
   "metadata": {},
   "outputs": [],
   "source": [
    "trans_sites = []\n",
    "for node in range(num_nodes):\n",
    "    trans_sites += np.random.choice(num_pd, G.degree[node], replace=False).tolist(),\n",
    "\n",
    "nodes2trans = {}\n",
    "sites = []\n",
    "for edge in G.edges:\n",
    "    from_pd = trans_sites[edge[0]].pop()\n",
    "    to_pd = trans_sites[edge[1]].pop()\n",
    "    edge_data = G.get_edge_data(edge[0],edge[1])\n",
    "    sites += (edge[0],from_pd, edge[1],to_pd, edge_data[\"weight\"], edge_data[\"capacity\"]),\n",
    "    nodes2trans[(edge[0], edge[1])] = (from_pd,to_pd)\n",
    "    nodes2trans[(edge[1], edge[0])] = (to_pd,from_pd)"
   ]
  },
  {
   "cell_type": "code",
   "execution_count": 2,
   "metadata": {},
   "outputs": [],
   "source": [
    "num_nodes = 4\n",
    "num_pd = 5\n",
    "num_trans_site = 20\n",
    "num_jobs = 20\n",
    "max_node_vehicle = 3\n",
    "max_trans_capacity = 3\n",
    "flexible = True\n",
    "same_dest = False"
   ]
  },
  {
   "cell_type": "code",
   "execution_count": 3,
   "metadata": {},
   "outputs": [
    {
     "name": "stdout",
     "output_type": "stream",
     "text": [
      "[2, 10] [5, 7]\n"
     ]
    },
    {
     "data": {
      "image/png": "[encoded data removed]",
      "text/plain": [
       "<Figure size 640x480 with 1 Axes>"
      ]
     },
     "metadata": {},
     "output_type": "display_data"
    }
   ],
   "source": [
    "from itertools import combinations\n",
    "trans_count = num_trans_site\n",
    "\n",
    "num_io_nodes = int(num_nodes*0.1) if int(num_nodes*0.1) > 0 else 1\n",
    "input_nodes, output_nodes = np.random.choice(num_nodes, num_io_nodes*2, replace=False).reshape(2,-1)\n",
    "input_nodes, output_nodes = input_nodes.tolist(), output_nodes.tolist()\n",
    "print(input_nodes,output_nodes)\n",
    "inter_nodes = list(range(num_nodes))\n",
    "for i in input_nodes+output_nodes:\n",
    "    inter_nodes.remove(i)\n",
    "\n",
    "G = nx.Graph()\n",
    "G.add_node(inter_nodes[0])\n",
    "\n",
    "for i in inter_nodes[1:]:\n",
    "    existing_nodes = list(G.nodes)\n",
    "    node = randint(0,len(existing_nodes))\n",
    "\n",
    "    while G.degree[existing_nodes[node]] +1 > num_pd:\n",
    "        node = randint(0,len(existing_nodes))\n",
    "    G.add_node(i)\n",
    "    G.add_edge(i, existing_nodes[node], weight=randint(1,10), capacity=randint(0,max_trans_capacity)+1)\n",
    "    trans_count -= 1\n",
    "\n",
    "for i in input_nodes + output_nodes:\n",
    "    G.add_node(i)\n",
    "\n",
    "\n",
    "for i in input_nodes:\n",
    "    np.random.shuffle(inter_nodes)\n",
    "    for node in inter_nodes:\n",
    "        if G.degree[node] +1 > num_pd:\n",
    "            continue\n",
    "        if G.has_edge(i,node):\n",
    "            continue\n",
    "        G.add_edge(i, node, weight=randint(1,10), capacity=randint(0,max_trans_capacity)+1)\n",
    "        trans_count -= 1\n",
    "        break\n",
    "\n",
    "for i in output_nodes:\n",
    "    np.random.shuffle(inter_nodes)\n",
    "    for node in inter_nodes:\n",
    "        if G.degree[node] +1 > num_pd:\n",
    "            continue\n",
    "        if G.has_edge(i,node):\n",
    "            continue\n",
    "        G.add_edge(i, node, weight=randint(1,10), capacity=randint(0,max_trans_capacity)+1)\n",
    "        trans_count -= 1\n",
    "        break\n",
    "\n",
    "nodes = list(G.nodes)\n",
    "node_pair = list(combinations(nodes, 2))\n",
    "np.random.shuffle(node_pair)\n",
    "\n",
    "for pair in node_pair:\n",
    "    f, t = pair\n",
    "    if f in input_nodes and t in input_nodes:\n",
    "        continue\n",
    "    if f in output_nodes and t in output_nodes:\n",
    "        continue\n",
    "    if G.degree[f] + 1 > num_pd or G.degree[t] +1 > num_pd:\n",
    "        continue\n",
    "    if G.has_edge(f,t):\n",
    "        continue\n",
    "    else:\n",
    "        G.add_edge(f,t, weight=randint(1,10), capacity=randint(0,max_trans_capacity)+1)\n",
    "        trans_count -= 1\n",
    "    if trans_count == 0:\n",
    "        break\n",
    "\n",
    "for node in G.nodes:\n",
    "    assert G.degree[node] != 0\n",
    "    \n",
    "nx.draw(G, with_labels = True)"
   ]
  },
  {
   "cell_type": "code",
   "execution_count": null,
   "metadata": {},
   "outputs": [
    {
     "name": "stdout",
     "output_type": "stream",
     "text": [
      "[2, 10] [5, 7]\n"
     ]
    },
    {
     "data": {
      "image/png": "[encoded data removed]",
      "text/plain": [
       "<Figure size 640x480 with 1 Axes>"
      ]
     },
     "metadata": {},
     "output_type": "display_data"
    }
   ],
   "source": [
    "from itertools import combinations\n",
    "trans_count = num_trans_site\n",
    "\n",
    "num_io_nodes = int(num_nodes*0.1) if int(num_nodes*0.1) > 0 else 1\n",
    "input_nodes, output_nodes = np.random.choice(num_nodes, num_io_nodes*2, replace=False).reshape(2,-1)\n",
    "input_nodes, output_nodes = input_nodes.tolist(), output_nodes.tolist()\n",
    "print(input_nodes,output_nodes)\n",
    "inter_nodes = list(range(num_nodes))\n",
    "for i in input_nodes+output_nodes:\n",
    "    inter_nodes.remove(i)\n",
    "\n",
    "G = nx.Graph()\n",
    "G.add_node(inter_nodes[0])\n",
    "\n",
    "for i in inter_nodes[1:]:\n",
    "    existing_nodes = list(G.nodes)\n",
    "    node = randint(0,len(existing_nodes))\n",
    "\n",
    "    while G.degree[existing_nodes[node]] +1 > num_pd:\n",
    "        node = randint(0,len(existing_nodes))\n",
    "    G.add_node(i)\n",
    "    G.add_edge(i, existing_nodes[node], weight=randint(1,10), capacity=randint(0,max_trans_capacity)+1)\n",
    "    trans_count -= 1\n",
    "\n",
    "for i in input_nodes + output_nodes:\n",
    "    G.add_node(i)\n",
    "\n",
    "\n",
    "for i in input_nodes:\n",
    "    np.random.shuffle(inter_nodes)\n",
    "    for node in inter_nodes:\n",
    "        if G.degree[node] +1 > num_pd:\n",
    "            continue\n",
    "        if G.has_edge(i,node):\n",
    "            continue\n",
    "        G.add_edge(i, node, weight=randint(1,10), capacity=randint(0,max_trans_capacity)+1)\n",
    "        trans_count -= 1\n",
    "        break\n",
    "\n",
    "for i in output_nodes:\n",
    "    np.random.shuffle(inter_nodes)\n",
    "    for node in inter_nodes:\n",
    "        if G.degree[node] +1 > num_pd:\n",
    "            continue\n",
    "        if G.has_edge(i,node):\n",
    "            continue\n",
    "        G.add_edge(i, node, weight=randint(1,10), capacity=randint(0,max_trans_capacity)+1)\n",
    "        trans_count -= 1\n",
    "        break\n",
    "\n",
    "nodes = list(G.nodes)\n",
    "node_pair = list(combinations(nodes, 2))\n",
    "np.random.shuffle(node_pair)\n",
    "\n",
    "for pair in node_pair:\n",
    "    f, t = pair\n",
    "    if f in input_nodes and t in input_nodes:\n",
    "        continue\n",
    "    if f in output_nodes and t in output_nodes:\n",
    "        continue\n",
    "    if G.degree[f] + 1 > num_pd or G.degree[t] +1 > num_pd:\n",
    "        continue\n",
    "    if G.has_edge(f,t):\n",
    "        continue\n",
    "    else:\n",
    "        G.add_edge(f,t, weight=randint(1,10), capacity=randint(0,max_trans_capacity)+1)\n",
    "        trans_count -= 1\n",
    "    if trans_count == 0:\n",
    "        break\n",
    "\n",
    "for node in G.nodes:\n",
    "    assert G.degree[node] != 0\n",
    "    \n",
    "nx.draw(G, with_labels = True)"
   ]
  },
  {
   "cell_type": "code",
   "execution_count": 4,
   "metadata": {},
   "outputs": [],
   "source": [
    "node_from_to = randint(1,10, (num_nodes, num_pd, num_pd))\n",
    "for i in range(num_pd):\n",
    "    node_from_to[:,i,i] = 0"
   ]
  },
  {
   "cell_type": "code",
   "execution_count": 6,
   "metadata": {},
   "outputs": [
    {
     "name": "stdout",
     "output_type": "stream",
     "text": [
      "Graph saved: Success!\n"
     ]
    }
   ],
   "source": [
    "import os\n",
    "import pprint\n",
    "\n",
    "FOLDER =f\"benchmark/Network N{num_nodes}T{num_trans_site}C{max_trans_capacity}V{max_node_vehicle}\"\n",
    "os.makedirs(FOLDER, exist_ok=True)\n",
    "text = json.dumps(nx.node_link_data(G), indent=2)[:-2]+',\\n'\n",
    "num_node_veh = randint(1,max_node_vehicle+1, num_nodes).tolist()\n",
    "\n",
    "data = {\"num_nodes\": num_nodes,\n",
    "        \"num_pd\": num_pd, \n",
    "        \"num_trans_site\": num_trans_site, \n",
    "        # \"num_jobs\": num_jobs,\n",
    "        \"max_node_vehicle\": max_node_vehicle,\n",
    "        \"max_trans_capacity\": max_trans_capacity,\n",
    "        \"flexible\": flexible,\n",
    "        }\n",
    "\n",
    "text += json.dumps(data, indent=2)[1:-2]+',\\n'\n",
    "text += f'  \"num_node_veh\":\\n'+ \"\\n\".join([f\"    {line}\" for line in pprint.pformat(num_node_veh).split(\"\\n\")]) + \",\\n\"\n",
    "text += f'  \"node_from_to\":\\n'+ \"\\n\".join([f\"    {line}\" for line in pprint.pformat(node_from_to.tolist()).split(\"\\n\")]) + \",\\n\"\n",
    "text += f'  \"trans_sites\":\\n'+  \"\\n\".join([f\"    {line}\" for line in pprint.pformat([[s for s in site] for site in sites]).split(\"\\n\")])+ \",\\n\"\n",
    "text += f'  \"input_nodes\":\\n'+ \"\\n\".join([f\"    {line}\" for line in pprint.pformat(input_nodes).split(\"\\n\")]) + \",\\n\"\n",
    "text += f'  \"output_nodes\":\\n'+ \"\\n\".join([f\"    {line}\" for line in pprint.pformat(output_nodes).split(\"\\n\")]) + \",\\n\"\n",
    "text = text[:-2] + \"\\n}\"\n",
    "with open(f\"{FOLDER}/Network config.json\", \"w\") as f:\n",
    "        f.write(text)\n",
    "with open(f\"{FOLDER}/Network config.json\") as f:\n",
    "    G_ = nx.node_link_graph(json.loads(f.read()))\n",
    "    print(f\"Graph saved: {'Success!' if nx.utils.graphs_equal(G_, G) else 'Failed!'}\")"
   ]
  },
  {
   "attachments": {},
   "cell_type": "markdown",
   "metadata": {},
   "source": [
    "## Read"
   ]
  },
  {
   "cell_type": "code",
   "execution_count": 7,
   "metadata": {},
   "outputs": [],
   "source": [
    "FOLDER =f\"benchmark/Network N{num_nodes}T{num_trans_site}C{max_trans_capacity}V{max_node_vehicle}\"\n",
    "with open(f\"{FOLDER}/Network config.json\") as f:\n",
    "    data = json.loads(f.read())\n",
    "    G = nx.node_link_graph(data)"
   ]
  },
  {
   "cell_type": "code",
   "execution_count": null,
   "metadata": {},
   "outputs": [],
   "source": []
  },
  {
   "cell_type": "code",
   "execution_count": 8,
   "metadata": {},
   "outputs": [],
   "source": [
    "# import pprint\n",
    "# data = ({\"num_nodes\": num_nodes,\n",
    "#         \"num_pd\": num_pd, \n",
    "#         \"num_trans_site\": num_trans_site, \n",
    "#         # \"num_jobs\": num_jobs,\n",
    "#         \"max_node_vehicle\": max_node_vehicle,\n",
    "#         \"max_trans_capacity\": max_trans_capacity,\n",
    "#         \"flexible\": flexible,\n",
    "#         })\n",
    "\n",
    "# text = json.dumps(data, indent=2)[:-2]+',\\n'\n",
    "# num_node_veh = randint(1,max_node_vehicle+1, num_nodes).tolist()\n",
    "# text += f'  \"num_node_veh\":\\n'+ \"\\n\".join([f\"    {line}\" for line in pprint.pformat(num_node_veh).split(\"\\n\")]) + \",\\n\"\n",
    "# text += f'  \"node_from_to\":\\n'+ \"\\n\".join([f\"    {line}\" for line in pprint.pformat(node_from_to.tolist()).split(\"\\n\")]) + \",\\n\"\n",
    "# text += f'  \"trans_sites\":\\n'+  \"\\n\".join([f\"    {line}\" for line in pprint.pformat([[s for s in site] for site in sites]).split(\"\\n\")])+ \",\\n\"\n",
    "# data[\"num_node_veh\"] = num_node_veh\n",
    "# data[\"node_from_to\"] = node_from_to.tolist()\n",
    "# data[\"trans_sites\"] = [[s for s in site] for site in sites]"
   ]
  },
  {
   "cell_type": "code",
   "execution_count": 12,
   "metadata": {},
   "outputs": [],
   "source": [
    "num_jobs = 5\n",
    "text = '{\\n  \\\"num_jobs\\\": ' + f\"{num_jobs},\\n  \" +  '\"jobs\\\": {\\n'\n",
    "data[\"jobs\"] = {}\n",
    "sample_paths_db = {}\n",
    "\n",
    "if same_dest:\n",
    "    fr = np.random.choice(data[\"input_nodes\"], 1)[0]\n",
    "    to = np.random.choice(data[\"output_nodes\"], 1)[0]\n",
    "    # while to == fr:\n",
    "    #     to = randint(0,len(G.nodes))\n",
    "    sample_paths = []\n",
    "    g = nx.all_simple_paths(G, fr, to)\n",
    "    for _ in range(10):\n",
    "        try:\n",
    "            sample_paths += next(g),\n",
    "        except StopIteration:\n",
    "            break\n",
    "    # num_path = 3\n",
    "\n",
    "for j in range(num_jobs):\n",
    "    num_path = randint(1,4) if flexible else 1\n",
    "    if not same_dest:\n",
    "        fr = np.random.choice(data[\"input_nodes\"], 1)[0]\n",
    "        to = np.random.choice(data[\"output_nodes\"], 1)[0]\n",
    "        # while to == fr:\n",
    "        #     to = randint(0,len(G.nodes))\n",
    "    \n",
    "        # if num_path == 1:\n",
    "        #     paths = [nx.shortest_path(G, fr, to)]\n",
    "        # else:\n",
    "        if (fr,to) in sample_paths_db:\n",
    "            sample_paths = sample_paths_db[(fr,to)]\n",
    "        else:\n",
    "            sample_paths = []\n",
    "            g = nx.all_simple_paths(G, fr, to)\n",
    "            for _ in range(10):\n",
    "                try:\n",
    "                    sample_paths += next(g),\n",
    "                except StopIteration:\n",
    "                    break\n",
    "            assert len(sample_paths) != 0\n",
    "            sample_paths_db[(fr,to)] = sample_paths\n",
    "        indices = np.random.choice(range(len(sample_paths)), num_path if len(sample_paths) > num_path else len(sample_paths), replace=False)\n",
    "        paths = [sample_paths[i] for i in indices]\n",
    "    else:\n",
    "        indices = np.random.choice(range(len(sample_paths)), num_path if len(sample_paths) > num_path else len(sample_paths), replace=False)\n",
    "        paths = [sample_paths[i] for i in indices]\n",
    "\n",
    "    all_ops = []\n",
    "    start_pd = 0\n",
    "    # start_pd = randint(num_pd)\n",
    "    end_pd = 0\n",
    "    # end_pd = randint(num_pd)\n",
    "    for path in paths:\n",
    "        ops = [[n] for n in path]\n",
    "    # print(ops)\n",
    "        for i in range(1, len(path)):\n",
    "            if i == 1:\n",
    "                ops[0] += start_pd,\n",
    "            fr,to = nodes2trans[(path[i-1],path[i])]\n",
    "            ops[i-1] += fr,\n",
    "            ops[i] += to,\n",
    "            if i == len(path)-1:\n",
    "                ops[i] += end_pd,\n",
    "        all_ops += ops,\n",
    "    text += f'    \"job {j}\":\\n' + \"\\n\".join([f\"        {line}\" for line in pprint.pformat(all_ops, width=20).split(\"\\n\")])\n",
    "    if j == num_jobs -1:\n",
    "        text +='\\n'\n",
    "    else: \n",
    "        text +=',\\n' \n",
    "\n",
    "    data[\"jobs\"][f\"job {j}\"] = all_ops\n",
    "text += \"  }\\n}\""
   ]
  },
  {
   "cell_type": "code",
   "execution_count": 13,
   "metadata": {},
   "outputs": [],
   "source": [
    "with open(f\"{FOLDER}/{'Flexible ' if flexible else ''}J{num_jobs}.json\", \"w\") as f:\n",
    "        f.write(text)\n",
    "# with open(f\"benchmark/{'Flexible ' if flexible else ''}N{num_nodes}T{num_trans_site}V{max_node_vehicle}C{max_trans_capacity}J{num_jobs}.json\", \"w\") as f:\n",
    "#         f.write(text)"
   ]
  },
  {
   "cell_type": "code",
   "execution_count": 11,
   "metadata": {},
   "outputs": [],
   "source": [
    "# with open(f\"benchmark/{'Flexible ' if flexible else ''}N{num_nodes}T{num_trans_site}V{max_node_vehicle}C{max_trans_capacity}J{num_jobs}.json\") as f:\n",
    "#     d = json.loads(f.read())\n",
    "#     print(\"Validation: \" \"Success!\" if d == data else \"Failed!\")"
   ]
  }
 ],
 "metadata": {
  "kernelspec": {
   "display_name": "Python 3",
   "language": "python",
   "name": "python3"
  },
  "language_info": {
   "codemirror_mode": {
    "name": "ipython",
    "version": 3
   },
   "file_extension": ".py",
   "mimetype": "text/x-python",
   "name": "python",
   "nbconvert_exporter": "python",
   "pygments_lexer": "ipython3",
   "version": "3.10.13"
  },
  "orig_nbformat": 4
 },
 "nbformat": 4,
 "nbformat_minor": 2
}
